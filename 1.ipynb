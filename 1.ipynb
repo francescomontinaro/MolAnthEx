{
 "cells": [
  {
   "cell_type": "code",
   "execution_count": 6,
   "metadata": {},
   "outputs": [
    {
     "name": "stdout",
     "output_type": "stream",
     "text": [
      "PuBa GSM1094884 0 0 0 2\n",
      "PuBa GSM1094885 0 0 0 2\n",
      "PuBa GSM1094886 0 0 0 1\n",
      "PuBa GSM1094887 0 0 0 1\n",
      "PuBa GSM1094888 0 0 0 1\n",
      "PuBa GSM1094889 0 0 0 1\n",
      "PuBa GSM1094890 0 0 0 1\n",
      "PuBa GSM1094891 0 0 0 1\n",
      "PuBa GSM1094892 0 0 0 1\n",
      "PuBa GSM1094893 0 0 0 1\n"
     ]
    }
   ],
   "source": [
    "%%bash\n",
    "\n",
    "head GreSalVL_b37_AllelesUpdatedNewMap.fam"
   ]
  },
  {
   "cell_type": "code",
   "execution_count": null,
   "metadata": {},
   "outputs": [],
   "source": []
  }
 ],
 "metadata": {
  "kernelspec": {
   "display_name": "Python 3",
   "language": "python",
   "name": "python3"
  },
  "language_info": {
   "codemirror_mode": {
    "name": "ipython",
    "version": 3
   },
   "file_extension": ".py",
   "mimetype": "text/x-python",
   "name": "python",
   "nbconvert_exporter": "python",
   "pygments_lexer": "ipython3",
   "version": "3.8.3"
  }
 },
 "nbformat": 4,
 "nbformat_minor": 4
}
