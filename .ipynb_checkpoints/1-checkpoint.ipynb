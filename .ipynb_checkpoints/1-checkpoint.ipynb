{
 "cells": [
  {
   "cell_type": "code",
   "execution_count": 1,
   "metadata": {},
   "outputs": [
    {
     "name": "stdout",
     "output_type": "stream",
     "text": [
      "PuBa GSM1094884 0 0 0 2\n",
      "PuBa GSM1094885 0 0 0 2\n",
      "PuBa GSM1094886 0 0 0 1\n",
      "PuBa GSM1094887 0 0 0 1\n",
      "PuBa GSM1094888 0 0 0 1\n",
      "PuBa GSM1094889 0 0 0 1\n",
      "PuBa GSM1094890 0 0 0 1\n",
      "PuBa GSM1094891 0 0 0 1\n",
      "PuBa GSM1094892 0 0 0 1\n",
      "PuBa GSM1094893 0 0 0 1\n"
     ]
    }
   ],
   "source": [
    "%%bash\n",
    "\n",
    "head GreSalVL_b37_AllelesUpdatedNewMap.fam"
   ]
  },
  {
   "cell_type": "code",
   "execution_count": 2,
   "metadata": {},
   "outputs": [
    {
     "name": "stdout",
     "output_type": "stream",
     "text": [
      "PLINK v1.90b6.22 64-bit (16 Apr 2021)          www.cog-genomics.org/plink/1.9/\n",
      "(C) 2005-2021 Shaun Purcell, Christopher Chang   GNU General Public License v3\n",
      "Logging to GreSalVL_b37_AllelesUpdatedNewMapPED.log.\n",
      "Options in effect:\n",
      "  --bfile GreSalVL_b37_AllelesUpdatedNewMap\n",
      "  --out GreSalVL_b37_AllelesUpdatedNewMapPED\n",
      "  --recode\n",
      "\n",
      "9409 MB RAM detected; reserving 4704 MB for main workspace.\n",
      "299140 variants loaded from .bim file.\n",
      "217 people (0 males, 0 females, 217 ambiguous) loaded from .fam.\n",
      "Ambiguous sex IDs written to GreSalVL_b37_AllelesUpdatedNewMapPED.nosex .\n",
      "217 phenotype values loaded from .fam.\n",
      "Using 1 thread (no multithreaded calculations invoked).\n",
      "Before main variant filters, 217 founders and 0 nonfounders present.\n",
      "Calculating allele frequencies... 10111213141516171819202122232425262728293031323334353637383940414243444546474849505152535455565758596061626364656667686970717273747576777879808182838485868788899091929394959697989 done.\n",
      "Total genotyping rate is 0.976208.\n",
      "299140 variants and 217 people pass filters and QC.\n",
      "Among remaining phenotypes, 51 are cases and 166 are controls.\n",
      "--recode ped to GreSalVL_b37_AllelesUpdatedNewMapPED.ped +\n",
      "GreSalVL_b37_AllelesUpdatedNewMapPED.map ... 101112131415161718192021222324252627282930313233343536373839404142434445464748495051525354555657585960616263646566676869707172737475767778798081828384858687888990919293949596979899done.\n"
     ]
    },
    {
     "name": "stderr",
     "output_type": "stream",
     "text": [
      "Warning: Ignoring phenotypes of missing-sex samples.  If you don't want those\n",
      "phenotypes to be ignored, use the --allow-no-sex flag.\n",
      "Warning: Nonmissing nonmale Y chromosome genotype(s) present; many commands\n",
      "treat these as missing.\n"
     ]
    }
   ],
   "source": [
    "%%bash\n",
    "./plink --bfile GreSalVL_b37_AllelesUpdatedNewMap --recode --out GreSalVL_b37_AllelesUpdatedNewMapPED\n"
   ]
  },
  {
   "cell_type": "code",
   "execution_count": 9,
   "metadata": {},
   "outputs": [
    {
     "name": "stdout",
     "output_type": "stream",
     "text": [
      "PuBa GSM1094884 0 0 0 2 0 0 A A G G\n",
      "PuBa GSM1094885 0 0 0 2 0 0 A A G G\n",
      "PuBa GSM1094886 0 0 0 1 0 0 A A A G\n",
      "PuBa GSM1094887 0 0 0 1 0 0 A A A G\n",
      "PuBa GSM1094888 0 0 0 1 0 0 G A A G\n",
      "PuBa GSM1094889 0 0 0 1 0 0 A A A A\n",
      "PuBa GSM1094890 0 0 0 1 0 0 G A A G\n",
      "PuBa GSM1094891 0 0 0 1 0 0 A A A G\n",
      "PuBa GSM1094892 0 0 0 1 0 0 A A A G\n",
      "PuBa GSM1094893 0 0 0 1 0 0 A A G G\n"
     ]
    }
   ],
   "source": [
    "%%bash\n",
    "\n",
    "awk '{print $1,$2,$3,$4,$5,$6,$7,$8,$9,$10,$11,$12}' GreSalVL_b37_AllelesUpdatedNewMapPED.ped | head -n 10 "
   ]
  },
  {
   "cell_type": "code",
   "execution_count": 17,
   "metadata": {},
   "outputs": [
    {
     "name": "stdout",
     "output_type": "stream",
     "text": [
      "217 GreSalVL_b37_AllelesUpdatedNewMapPED.ped\n",
      "299140 GreSalVL_b37_AllelesUpdatedNewMap.map\n",
      "PugliaBa GSM1094884 0 0 0 2 0 0 A A\n",
      "PugliaBa GSM1094885 0 0 0 2 0 0 A A\n",
      "PugliaBa GSM1094886 0 0 0 1 0 0 A A\n",
      "PugliaBa GSM1094887 0 0 0 1 0 0 A A\n",
      "PugliaBa GSM1094888 0 0 0 1 0 0 G A\n",
      "PugliaBa GSM1094889 0 0 0 1 0 0 A A\n",
      "PugliaBa GSM1094890 0 0 0 1 0 0 G A\n",
      "PugliaBa GSM1094891 0 0 0 1 0 0 A A\n",
      "PugliaBa GSM1094892 0 0 0 1 0 0 A A\n",
      "PugliaBa GSM1094893 0 0 0 1 0 0 A A\n"
     ]
    }
   ],
   "source": [
    "%%bash\n",
    "\n",
    "wc -l GreSalVL_b37_AllelesUpdatedNewMapPED.ped \n",
    "wc -l GreSalVL_b37_AllelesUpdatedNewMap.map\n",
    "sed -e  's/Pu/Puglia/g' GreSalVL_b37_AllelesUpdatedNewMapPED.ped |head -n 10 |cut -f 1-10 -d \" \""
   ]
  },
  {
   "cell_type": "code",
   "execution_count": null,
   "metadata": {},
   "outputs": [],
   "source": []
  }
 ],
 "metadata": {
  "kernelspec": {
   "display_name": "Python 3",
   "language": "python",
   "name": "python3"
  },
  "language_info": {
   "codemirror_mode": {
    "name": "ipython",
    "version": 3
   },
   "file_extension": ".py",
   "mimetype": "text/x-python",
   "name": "python",
   "nbconvert_exporter": "python",
   "pygments_lexer": "ipython3",
   "version": "3.8.5"
  }
 },
 "nbformat": 4,
 "nbformat_minor": 4
}
